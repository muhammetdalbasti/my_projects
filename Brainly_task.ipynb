{
 "cells": [
  {
   "cell_type": "markdown",
   "id": "b5a7aeed",
   "metadata": {},
   "source": [
    "### Importing libraries"
   ]
  },
  {
   "cell_type": "code",
   "execution_count": 186,
   "id": "f1228624",
   "metadata": {},
   "outputs": [],
   "source": [
    "import numpy as np\n",
    "import pandas as pd\n",
    "import seaborn as sns \n",
    "import matplotlib.pyplot as plt\n",
    "\n",
    "import warnings\n",
    "warnings.filterwarnings(\"ignore\")\n",
    "warnings.warn(\"this will not show\")\n",
    "\n",
    "%matplotlib inline"
   ]
  },
  {
   "cell_type": "markdown",
   "id": "2e269226",
   "metadata": {},
   "source": [
    "### Loading Datasets"
   ]
  },
  {
   "cell_type": "code",
   "execution_count": 187,
   "id": "cb95f5f7",
   "metadata": {},
   "outputs": [],
   "source": [
    "df1 = pd.read_csv(\"dataset_21.csv\")\n",
    "df2 = pd.read_csv(\"dataset_22.csv\")\n",
    "df3 = pd.read_csv(\"dataset_23.csv\")"
   ]
  },
  {
   "cell_type": "markdown",
   "id": "66df58b6",
   "metadata": {},
   "source": [
    "# QUESTION 1"
   ]
  },
  {
   "cell_type": "markdown",
   "id": "c5847517",
   "metadata": {},
   "source": [
    "#### 1.  Calculate and visualise the daily conversion rate to trial (1st metric) and conversion rate to viewing the video unlock page at least once (2nd metric) (hint: use the users count in the denominator of both metrics). Do you see any patterns, relationships between metrics?Describe them and, if possible, explain them.\n"
   ]
  },
  {
   "cell_type": "markdown",
   "id": "b29a4819",
   "metadata": {},
   "source": [
    "##### Exploratory Data Analysis"
   ]
  },
  {
   "cell_type": "code",
   "execution_count": 188,
   "id": "ffffa6f5",
   "metadata": {},
   "outputs": [
    {
     "data": {
      "text/html": [
       "<div>\n",
       "<style scoped>\n",
       "    .dataframe tbody tr th:only-of-type {\n",
       "        vertical-align: middle;\n",
       "    }\n",
       "\n",
       "    .dataframe tbody tr th {\n",
       "        vertical-align: top;\n",
       "    }\n",
       "\n",
       "    .dataframe thead th {\n",
       "        text-align: right;\n",
       "    }\n",
       "</style>\n",
       "<table border=\"1\" class=\"dataframe\">\n",
       "  <thead>\n",
       "    <tr style=\"text-align: right;\">\n",
       "      <th></th>\n",
       "      <th>action_date</th>\n",
       "      <th>users</th>\n",
       "      <th>unlock_users</th>\n",
       "      <th>trial_users</th>\n",
       "    </tr>\n",
       "  </thead>\n",
       "  <tbody>\n",
       "    <tr>\n",
       "      <th>0</th>\n",
       "      <td>2019-09-11</td>\n",
       "      <td>1894</td>\n",
       "      <td>184</td>\n",
       "      <td>1</td>\n",
       "    </tr>\n",
       "    <tr>\n",
       "      <th>1</th>\n",
       "      <td>2019-09-12</td>\n",
       "      <td>3915</td>\n",
       "      <td>651</td>\n",
       "      <td>4</td>\n",
       "    </tr>\n",
       "    <tr>\n",
       "      <th>2</th>\n",
       "      <td>2019-09-13</td>\n",
       "      <td>4315</td>\n",
       "      <td>732</td>\n",
       "      <td>13</td>\n",
       "    </tr>\n",
       "    <tr>\n",
       "      <th>3</th>\n",
       "      <td>2019-09-14</td>\n",
       "      <td>5096</td>\n",
       "      <td>949</td>\n",
       "      <td>19</td>\n",
       "    </tr>\n",
       "    <tr>\n",
       "      <th>4</th>\n",
       "      <td>2019-09-15</td>\n",
       "      <td>6321</td>\n",
       "      <td>1103</td>\n",
       "      <td>23</td>\n",
       "    </tr>\n",
       "  </tbody>\n",
       "</table>\n",
       "</div>"
      ],
      "text/plain": [
       "  action_date  users  unlock_users  trial_users\n",
       "0  2019-09-11   1894           184            1\n",
       "1  2019-09-12   3915           651            4\n",
       "2  2019-09-13   4315           732           13\n",
       "3  2019-09-14   5096           949           19\n",
       "4  2019-09-15   6321          1103           23"
      ]
     },
     "execution_count": 188,
     "metadata": {},
     "output_type": "execute_result"
    }
   ],
   "source": [
    "df1.head() # Let's check the all columns and their names. First looking at the dataset if it imported correct etc. ..."
   ]
  },
  {
   "cell_type": "code",
   "execution_count": 189,
   "id": "f5833ed9",
   "metadata": {},
   "outputs": [
    {
     "name": "stdout",
     "output_type": "stream",
     "text": [
      "<class 'pandas.core.frame.DataFrame'>\n",
      "RangeIndex: 32 entries, 0 to 31\n",
      "Data columns (total 4 columns):\n",
      " #   Column        Non-Null Count  Dtype \n",
      "---  ------        --------------  ----- \n",
      " 0   action_date   32 non-null     object\n",
      " 1   users         32 non-null     int64 \n",
      " 2   unlock_users  32 non-null     int64 \n",
      " 3   trial_users   32 non-null     int64 \n",
      "dtypes: int64(3), object(1)\n",
      "memory usage: 1.1+ KB\n"
     ]
    }
   ],
   "source": [
    " df1.info()  # to check dataset's general info --> dtypes of the columns, how many rows and columns and NaN values etc. ..."
   ]
  },
  {
   "cell_type": "code",
   "execution_count": 190,
   "id": "751d9afb",
   "metadata": {},
   "outputs": [
    {
     "data": {
      "text/plain": [
       "(32, 4)"
      ]
     },
     "execution_count": 190,
     "metadata": {},
     "output_type": "execute_result"
    }
   ],
   "source": [
    "df1.shape  # we can also learn the shape of our dataset as row and column numbers like this"
   ]
  },
  {
   "cell_type": "code",
   "execution_count": 191,
   "id": "193d9fe7",
   "metadata": {},
   "outputs": [
    {
     "data": {
      "text/plain": [
       "action_date     0.0\n",
       "users           0.0\n",
       "unlock_users    0.0\n",
       "trial_users     0.0\n",
       "dtype: float64"
      ]
     },
     "execution_count": 191,
     "metadata": {},
     "output_type": "execute_result"
    }
   ],
   "source": [
    "df1.isnull().sum()/df1.shape[0]*100  # df.shape[0] --> row number of whole dataset, so we can calculate the percentage of null values of each columns have."
   ]
  },
  {
   "cell_type": "markdown",
   "id": "e5030b7f",
   "metadata": {},
   "source": [
    "#### Adding two more columns for rates"
   ]
  },
  {
   "cell_type": "code",
   "execution_count": 192,
   "id": "eecdae09",
   "metadata": {},
   "outputs": [
    {
     "data": {
      "text/html": [
       "<div>\n",
       "<style scoped>\n",
       "    .dataframe tbody tr th:only-of-type {\n",
       "        vertical-align: middle;\n",
       "    }\n",
       "\n",
       "    .dataframe tbody tr th {\n",
       "        vertical-align: top;\n",
       "    }\n",
       "\n",
       "    .dataframe thead th {\n",
       "        text-align: right;\n",
       "    }\n",
       "</style>\n",
       "<table border=\"1\" class=\"dataframe\">\n",
       "  <thead>\n",
       "    <tr style=\"text-align: right;\">\n",
       "      <th></th>\n",
       "      <th>action_date</th>\n",
       "      <th>users</th>\n",
       "      <th>unlock_users</th>\n",
       "      <th>trial_users</th>\n",
       "      <th>trial_conv_rate</th>\n",
       "      <th>video_conv_rate</th>\n",
       "    </tr>\n",
       "  </thead>\n",
       "  <tbody>\n",
       "    <tr>\n",
       "      <th>0</th>\n",
       "      <td>2019-09-11</td>\n",
       "      <td>1894</td>\n",
       "      <td>184</td>\n",
       "      <td>1</td>\n",
       "      <td>0.000528</td>\n",
       "      <td>0.097149</td>\n",
       "    </tr>\n",
       "    <tr>\n",
       "      <th>1</th>\n",
       "      <td>2019-09-12</td>\n",
       "      <td>3915</td>\n",
       "      <td>651</td>\n",
       "      <td>4</td>\n",
       "      <td>0.001022</td>\n",
       "      <td>0.166284</td>\n",
       "    </tr>\n",
       "    <tr>\n",
       "      <th>2</th>\n",
       "      <td>2019-09-13</td>\n",
       "      <td>4315</td>\n",
       "      <td>732</td>\n",
       "      <td>13</td>\n",
       "      <td>0.003013</td>\n",
       "      <td>0.169641</td>\n",
       "    </tr>\n",
       "    <tr>\n",
       "      <th>3</th>\n",
       "      <td>2019-09-14</td>\n",
       "      <td>5096</td>\n",
       "      <td>949</td>\n",
       "      <td>19</td>\n",
       "      <td>0.003728</td>\n",
       "      <td>0.186224</td>\n",
       "    </tr>\n",
       "    <tr>\n",
       "      <th>4</th>\n",
       "      <td>2019-09-15</td>\n",
       "      <td>6321</td>\n",
       "      <td>1103</td>\n",
       "      <td>23</td>\n",
       "      <td>0.003639</td>\n",
       "      <td>0.174498</td>\n",
       "    </tr>\n",
       "  </tbody>\n",
       "</table>\n",
       "</div>"
      ],
      "text/plain": [
       "  action_date  users  unlock_users  trial_users  trial_conv_rate  \\\n",
       "0  2019-09-11   1894           184            1         0.000528   \n",
       "1  2019-09-12   3915           651            4         0.001022   \n",
       "2  2019-09-13   4315           732           13         0.003013   \n",
       "3  2019-09-14   5096           949           19         0.003728   \n",
       "4  2019-09-15   6321          1103           23         0.003639   \n",
       "\n",
       "   video_conv_rate  \n",
       "0         0.097149  \n",
       "1         0.166284  \n",
       "2         0.169641  \n",
       "3         0.186224  \n",
       "4         0.174498  "
      ]
     },
     "execution_count": 192,
     "metadata": {},
     "output_type": "execute_result"
    }
   ],
   "source": [
    "df1[\"trial_conv_rate\"] = df1[\"trial_users\"] / df1[\"users\"]\n",
    "df1[\"video_conv_rate\"] = df1[\"unlock_users\"] / df1[\"users\"]\n",
    "\n",
    "df1.head()"
   ]
  },
  {
   "cell_type": "code",
   "execution_count": 193,
   "id": "e66ff893",
   "metadata": {},
   "outputs": [
    {
     "data": {
      "image/png": "[encoded data removed]",
      "text/plain": [
       "<Figure size 1080x360 with 1 Axes>"
      ]
     },
     "metadata": {
      "needs_background": "light"
     },
     "output_type": "display_data"
    }
   ],
   "source": [
    "fig, ax =plt.subplots(figsize=(15,5))\n",
    "ax = sns.barplot(x=df1.action_date, y=df1.trial_conv_rate)\n",
    "ax.set_xticklabels(df1.action_date, rotation = 90)\n",
    "ax.set_title('Daily Trial Conversion Rate',color = 'blue',fontsize=15);"
   ]
  },
  {
   "cell_type": "markdown",
   "id": "14402fff",
   "metadata": {},
   "source": [
    "As we seen it above table, We have almost same conversion rate for the same day of the week. Generally users are more prone to be convert on the Friday, Saturday and Sunday. We have very low trial conversion rate on the middle of the week. "
   ]
  },
  {
   "cell_type": "code",
   "execution_count": 194,
   "id": "32590671",
   "metadata": {},
   "outputs": [
    {
     "data": {
      "image/png": "[encoded data removed]",
      "text/plain": [
       "<Figure size 1080x360 with 1 Axes>"
      ]
     },
     "metadata": {
      "needs_background": "light"
     },
     "output_type": "display_data"
    }
   ],
   "source": [
    "fig, ax =plt.subplots(figsize=(15,5))\n",
    "ax = sns.barplot(x=df1.action_date, y=df1.video_conv_rate)\n",
    "ax.set_xticklabels(df1.action_date, rotation = 90)\n",
    "ax.set_title('Daily Video Conversion Rate',color = 'blue',fontsize=15);"
   ]
  },
  {
   "cell_type": "markdown",
   "id": "e793255d",
   "metadata": {},
   "source": [
    "As we seen it above table, there is a increase in video unlocking rate week by week. Due to the almost same trial conversion rate and increasing number in users, they start to use unlocking options by watching video more frequently. Here again we have a pattern for the days of week like Friday, Saturday and Sunday. Middle days of the week are stil in lower position in terms of video conversion rate."
   ]
  },
  {
   "cell_type": "markdown",
   "id": "1e0102d8",
   "metadata": {},
   "source": [
    "# QUESTION 2"
   ]
  },
  {
   "cell_type": "markdown",
   "id": "eff02140",
   "metadata": {},
   "source": [
    "## Compare the behaviour of 2 segments of users - users who converted to trial and users who didn't convert. Look at the overall volumes and for each segment calculate the shares of users who, during the whole analysed period:\n",
    "a. added at least 1 answer,\n",
    "\n",
    "b. added at least 1 question,\n",
    "\n",
    "c. read 5 or more answers,\n",
    "\n",
    "d. used OCR at least 1 time\n",
    "\n",
    "e. got an instant answer at least 1 time.\n"
   ]
  },
  {
   "cell_type": "code",
   "execution_count": 195,
   "id": "ed44cef6",
   "metadata": {},
   "outputs": [
    {
     "data": {
      "text/html": [
       "<div>\n",
       "<style scoped>\n",
       "    .dataframe tbody tr th:only-of-type {\n",
       "        vertical-align: middle;\n",
       "    }\n",
       "\n",
       "    .dataframe tbody tr th {\n",
       "        vertical-align: top;\n",
       "    }\n",
       "\n",
       "    .dataframe thead th {\n",
       "        text-align: right;\n",
       "    }\n",
       "</style>\n",
       "<table border=\"1\" class=\"dataframe\">\n",
       "  <thead>\n",
       "    <tr style=\"text-align: right;\">\n",
       "      <th></th>\n",
       "      <th>user_converted_to_trial</th>\n",
       "      <th>users_all</th>\n",
       "      <th>users_at_least_1_answer_added</th>\n",
       "      <th>users_at_least_1_question_added</th>\n",
       "      <th>users_at_least_5_answers_read</th>\n",
       "      <th>users_at_least_1_ocr</th>\n",
       "      <th>users_at_least_1_instant_answer</th>\n",
       "    </tr>\n",
       "  </thead>\n",
       "  <tbody>\n",
       "    <tr>\n",
       "      <th>0</th>\n",
       "      <td>didn't convert</td>\n",
       "      <td>154894</td>\n",
       "      <td>5822</td>\n",
       "      <td>17496</td>\n",
       "      <td>51311</td>\n",
       "      <td>69678</td>\n",
       "      <td>24418</td>\n",
       "    </tr>\n",
       "    <tr>\n",
       "      <th>1</th>\n",
       "      <td>converted</td>\n",
       "      <td>1036</td>\n",
       "      <td>8</td>\n",
       "      <td>111</td>\n",
       "      <td>969</td>\n",
       "      <td>876</td>\n",
       "      <td>722</td>\n",
       "    </tr>\n",
       "  </tbody>\n",
       "</table>\n",
       "</div>"
      ],
      "text/plain": [
       "  user_converted_to_trial  users_all  users_at_least_1_answer_added  \\\n",
       "0          didn't convert     154894                           5822   \n",
       "1               converted       1036                              8   \n",
       "\n",
       "   users_at_least_1_question_added  users_at_least_5_answers_read  \\\n",
       "0                            17496                          51311   \n",
       "1                              111                            969   \n",
       "\n",
       "   users_at_least_1_ocr  users_at_least_1_instant_answer  \n",
       "0                 69678                            24418  \n",
       "1                   876                              722  "
      ]
     },
     "execution_count": 195,
     "metadata": {},
     "output_type": "execute_result"
    }
   ],
   "source": [
    "df2.head()"
   ]
  },
  {
   "cell_type": "code",
   "execution_count": 196,
   "id": "03ebbb91",
   "metadata": {},
   "outputs": [
    {
     "name": "stdout",
     "output_type": "stream",
     "text": [
      "<class 'pandas.core.frame.DataFrame'>\n",
      "RangeIndex: 2 entries, 0 to 1\n",
      "Data columns (total 7 columns):\n",
      " #   Column                           Non-Null Count  Dtype \n",
      "---  ------                           --------------  ----- \n",
      " 0   user_converted_to_trial          2 non-null      object\n",
      " 1   users_all                        2 non-null      int64 \n",
      " 2   users_at_least_1_answer_added    2 non-null      int64 \n",
      " 3   users_at_least_1_question_added  2 non-null      int64 \n",
      " 4   users_at_least_5_answers_read    2 non-null      int64 \n",
      " 5   users_at_least_1_ocr             2 non-null      int64 \n",
      " 6   users_at_least_1_instant_answer  2 non-null      int64 \n",
      "dtypes: int64(6), object(1)\n",
      "memory usage: 240.0+ bytes\n"
     ]
    }
   ],
   "source": [
    "df2.info()"
   ]
  },
  {
   "cell_type": "markdown",
   "id": "6a7ff578",
   "metadata": {},
   "source": [
    "#### We dont have any issues with the dataset."
   ]
  },
  {
   "cell_type": "code",
   "execution_count": 197,
   "id": "9a98f356",
   "metadata": {},
   "outputs": [
    {
     "data": {
      "text/html": [
       "<div>\n",
       "<style scoped>\n",
       "    .dataframe tbody tr th:only-of-type {\n",
       "        vertical-align: middle;\n",
       "    }\n",
       "\n",
       "    .dataframe tbody tr th {\n",
       "        vertical-align: top;\n",
       "    }\n",
       "\n",
       "    .dataframe thead th {\n",
       "        text-align: right;\n",
       "    }\n",
       "</style>\n",
       "<table border=\"1\" class=\"dataframe\">\n",
       "  <thead>\n",
       "    <tr style=\"text-align: right;\">\n",
       "      <th></th>\n",
       "      <th>user_converted_to_trial</th>\n",
       "      <th>users_all</th>\n",
       "      <th>users_at_least_1_answer_added</th>\n",
       "      <th>users_at_least_1_question_added</th>\n",
       "      <th>users_at_least_5_answers_read</th>\n",
       "      <th>users_at_least_1_ocr</th>\n",
       "      <th>users_at_least_1_instant_answer</th>\n",
       "    </tr>\n",
       "  </thead>\n",
       "  <tbody>\n",
       "    <tr>\n",
       "      <th>0</th>\n",
       "      <td>didn't convert</td>\n",
       "      <td>154894</td>\n",
       "      <td>0.018793</td>\n",
       "      <td>0.056477</td>\n",
       "      <td>0.165633</td>\n",
       "      <td>0.224922</td>\n",
       "      <td>0.078822</td>\n",
       "    </tr>\n",
       "    <tr>\n",
       "      <th>1</th>\n",
       "      <td>converted</td>\n",
       "      <td>1036</td>\n",
       "      <td>0.007722</td>\n",
       "      <td>0.107143</td>\n",
       "      <td>0.935328</td>\n",
       "      <td>0.845560</td>\n",
       "      <td>0.696911</td>\n",
       "    </tr>\n",
       "  </tbody>\n",
       "</table>\n",
       "</div>"
      ],
      "text/plain": [
       "  user_converted_to_trial  users_all  users_at_least_1_answer_added  \\\n",
       "0          didn't convert     154894                       0.018793   \n",
       "1               converted       1036                       0.007722   \n",
       "\n",
       "   users_at_least_1_question_added  users_at_least_5_answers_read  \\\n",
       "0                         0.056477                       0.165633   \n",
       "1                         0.107143                       0.935328   \n",
       "\n",
       "   users_at_least_1_ocr  users_at_least_1_instant_answer  \n",
       "0              0.224922                         0.078822  \n",
       "1              0.845560                         0.696911  "
      ]
     },
     "execution_count": 197,
     "metadata": {},
     "output_type": "execute_result"
    }
   ],
   "source": [
    "df2.iloc[:1,2:] = df2.iloc[:1,2:].applymap(lambda x: x/309788)  # chaneged with their percentage value.\n",
    "df2.iloc[1:,2:] = df2.iloc[1:,2:].applymap(lambda x: x/1036)\n",
    "\n",
    "df2.head()"
   ]
  },
  {
   "cell_type": "code",
   "execution_count": 198,
   "id": "92573faf",
   "metadata": {},
   "outputs": [
    {
     "data": {
      "text/html": [
       "<div>\n",
       "<style scoped>\n",
       "    .dataframe tbody tr th:only-of-type {\n",
       "        vertical-align: middle;\n",
       "    }\n",
       "\n",
       "    .dataframe tbody tr th {\n",
       "        vertical-align: top;\n",
       "    }\n",
       "\n",
       "    .dataframe thead th {\n",
       "        text-align: right;\n",
       "    }\n",
       "</style>\n",
       "<table border=\"1\" class=\"dataframe\">\n",
       "  <thead>\n",
       "    <tr style=\"text-align: right;\">\n",
       "      <th>user_converted_to_trial</th>\n",
       "      <th>didn't convert</th>\n",
       "      <th>converted</th>\n",
       "    </tr>\n",
       "  </thead>\n",
       "  <tbody>\n",
       "    <tr>\n",
       "      <th>users_at_least_1_answer_added</th>\n",
       "      <td>0.018793</td>\n",
       "      <td>0.007722</td>\n",
       "    </tr>\n",
       "    <tr>\n",
       "      <th>users_at_least_1_question_added</th>\n",
       "      <td>0.056477</td>\n",
       "      <td>0.107143</td>\n",
       "    </tr>\n",
       "    <tr>\n",
       "      <th>users_at_least_5_answers_read</th>\n",
       "      <td>0.165633</td>\n",
       "      <td>0.935328</td>\n",
       "    </tr>\n",
       "    <tr>\n",
       "      <th>users_at_least_1_ocr</th>\n",
       "      <td>0.224922</td>\n",
       "      <td>0.845560</td>\n",
       "    </tr>\n",
       "    <tr>\n",
       "      <th>users_at_least_1_instant_answer</th>\n",
       "      <td>0.078822</td>\n",
       "      <td>0.696911</td>\n",
       "    </tr>\n",
       "  </tbody>\n",
       "</table>\n",
       "</div>"
      ],
      "text/plain": [
       "user_converted_to_trial          didn't convert  converted\n",
       "users_at_least_1_answer_added          0.018793   0.007722\n",
       "users_at_least_1_question_added        0.056477   0.107143\n",
       "users_at_least_5_answers_read          0.165633   0.935328\n",
       "users_at_least_1_ocr                   0.224922   0.845560\n",
       "users_at_least_1_instant_answer        0.078822   0.696911"
      ]
     },
     "execution_count": 198,
     "metadata": {},
     "output_type": "execute_result"
    }
   ],
   "source": [
    "df2.set_index(\"user_converted_to_trial\").transpose().drop(\"users_all\")"
   ]
  },
  {
   "cell_type": "markdown",
   "id": "280cd9df",
   "metadata": {},
   "source": [
    "# QUESTION 3"
   ]
  },
  {
   "cell_type": "markdown",
   "id": "5885e456",
   "metadata": {},
   "source": [
    "## Prepare a visualisation of distributions of total answers read per user for 2 segments: users who converted to trial vs users who didn't convert. Prepare a comparison of the descriptive statistics across both segments. How can we interpret and use the results?\n"
   ]
  },
  {
   "cell_type": "code",
   "execution_count": 199,
   "id": "e320b742",
   "metadata": {},
   "outputs": [
    {
     "data": {
      "text/html": [
       "<div>\n",
       "<style scoped>\n",
       "    .dataframe tbody tr th:only-of-type {\n",
       "        vertical-align: middle;\n",
       "    }\n",
       "\n",
       "    .dataframe tbody tr th {\n",
       "        vertical-align: top;\n",
       "    }\n",
       "\n",
       "    .dataframe thead th {\n",
       "        text-align: right;\n",
       "    }\n",
       "</style>\n",
       "<table border=\"1\" class=\"dataframe\">\n",
       "  <thead>\n",
       "    <tr style=\"text-align: right;\">\n",
       "      <th></th>\n",
       "      <th>user_pseudo_id</th>\n",
       "      <th>user_converted_to_trial</th>\n",
       "      <th>read_an_answer_sum</th>\n",
       "    </tr>\n",
       "  </thead>\n",
       "  <tbody>\n",
       "    <tr>\n",
       "      <th>0</th>\n",
       "      <td>Rgkf9DWtzMHQv4iKgjDhftiyPbc=</td>\n",
       "      <td>0</td>\n",
       "      <td>51</td>\n",
       "    </tr>\n",
       "    <tr>\n",
       "      <th>1</th>\n",
       "      <td>UgwjaLdh6XNsqB8dOxEmt6zHrBQ=</td>\n",
       "      <td>0</td>\n",
       "      <td>403</td>\n",
       "    </tr>\n",
       "    <tr>\n",
       "      <th>2</th>\n",
       "      <td>vXo64eC6/XfDpWWAngTex9zJ4Qs=</td>\n",
       "      <td>0</td>\n",
       "      <td>35</td>\n",
       "    </tr>\n",
       "    <tr>\n",
       "      <th>3</th>\n",
       "      <td>KyzNY8sC4ex1LEL9H9y3QO1VRKw=</td>\n",
       "      <td>0</td>\n",
       "      <td>33</td>\n",
       "    </tr>\n",
       "    <tr>\n",
       "      <th>4</th>\n",
       "      <td>dLz+jCeLxtCRdC2+wUUWlB/DW4E=</td>\n",
       "      <td>0</td>\n",
       "      <td>68</td>\n",
       "    </tr>\n",
       "    <tr>\n",
       "      <th>5</th>\n",
       "      <td>4c6TeuFMY9rr9tdD/aESgPMrwRQ=</td>\n",
       "      <td>1</td>\n",
       "      <td>34</td>\n",
       "    </tr>\n",
       "    <tr>\n",
       "      <th>6</th>\n",
       "      <td>lXVyjM55t6fM79KByGphqumWA3s=</td>\n",
       "      <td>0</td>\n",
       "      <td>30</td>\n",
       "    </tr>\n",
       "    <tr>\n",
       "      <th>7</th>\n",
       "      <td>fn5maBpTVPV6MirVIRgG4tmKhUM=</td>\n",
       "      <td>0</td>\n",
       "      <td>47</td>\n",
       "    </tr>\n",
       "    <tr>\n",
       "      <th>8</th>\n",
       "      <td>dJ702A4TT1VLzLbbighbP93V4eY=</td>\n",
       "      <td>0</td>\n",
       "      <td>34</td>\n",
       "    </tr>\n",
       "    <tr>\n",
       "      <th>9</th>\n",
       "      <td>9pXjhZ+jST/ZxXEBr22feITLFRg=</td>\n",
       "      <td>0</td>\n",
       "      <td>64</td>\n",
       "    </tr>\n",
       "  </tbody>\n",
       "</table>\n",
       "</div>"
      ],
      "text/plain": [
       "                 user_pseudo_id  user_converted_to_trial  read_an_answer_sum\n",
       "0  Rgkf9DWtzMHQv4iKgjDhftiyPbc=                        0                  51\n",
       "1  UgwjaLdh6XNsqB8dOxEmt6zHrBQ=                        0                 403\n",
       "2  vXo64eC6/XfDpWWAngTex9zJ4Qs=                        0                  35\n",
       "3  KyzNY8sC4ex1LEL9H9y3QO1VRKw=                        0                  33\n",
       "4  dLz+jCeLxtCRdC2+wUUWlB/DW4E=                        0                  68\n",
       "5  4c6TeuFMY9rr9tdD/aESgPMrwRQ=                        1                  34\n",
       "6  lXVyjM55t6fM79KByGphqumWA3s=                        0                  30\n",
       "7  fn5maBpTVPV6MirVIRgG4tmKhUM=                        0                  47\n",
       "8  dJ702A4TT1VLzLbbighbP93V4eY=                        0                  34\n",
       "9  9pXjhZ+jST/ZxXEBr22feITLFRg=                        0                  64"
      ]
     },
     "execution_count": 199,
     "metadata": {},
     "output_type": "execute_result"
    }
   ],
   "source": [
    "df3.head(10)"
   ]
  },
  {
   "cell_type": "code",
   "execution_count": 200,
   "id": "de284715",
   "metadata": {},
   "outputs": [
    {
     "data": {
      "text/html": [
       "<div>\n",
       "<style scoped>\n",
       "    .dataframe tbody tr th:only-of-type {\n",
       "        vertical-align: middle;\n",
       "    }\n",
       "\n",
       "    .dataframe tbody tr th {\n",
       "        vertical-align: top;\n",
       "    }\n",
       "\n",
       "    .dataframe thead th {\n",
       "        text-align: right;\n",
       "    }\n",
       "</style>\n",
       "<table border=\"1\" class=\"dataframe\">\n",
       "  <thead>\n",
       "    <tr style=\"text-align: right;\">\n",
       "      <th></th>\n",
       "      <th>user_converted_to_trial</th>\n",
       "      <th>read_an_answer_sum</th>\n",
       "    </tr>\n",
       "  </thead>\n",
       "  <tbody>\n",
       "    <tr>\n",
       "      <th>0</th>\n",
       "      <td>0</td>\n",
       "      <td>8.382140</td>\n",
       "    </tr>\n",
       "    <tr>\n",
       "      <th>1</th>\n",
       "      <td>1</td>\n",
       "      <td>31.779923</td>\n",
       "    </tr>\n",
       "  </tbody>\n",
       "</table>\n",
       "</div>"
      ],
      "text/plain": [
       "   user_converted_to_trial  read_an_answer_sum\n",
       "0                        0            8.382140\n",
       "1                        1           31.779923"
      ]
     },
     "execution_count": 200,
     "metadata": {},
     "output_type": "execute_result"
    }
   ],
   "source": [
    "df4 = df3.groupby([\"user_converted_to_trial\"]).mean(\"read_an_answer_sum\")\n",
    "df4.reset_index()"
   ]
  },
  {
   "cell_type": "code",
   "execution_count": 201,
   "id": "8caf52c1",
   "metadata": {},
   "outputs": [
    {
     "data": {
      "text/plain": [
       "<seaborn.axisgrid.FacetGrid at 0x1fee13521c0>"
      ]
     },
     "execution_count": 201,
     "metadata": {},
     "output_type": "execute_result"
    },
    {
     "data": {
      "image/png": "[encoded data removed]",
      "text/plain": [
       "<Figure size 360x360 with 1 Axes>"
      ]
     },
     "metadata": {
      "needs_background": "light"
     },
     "output_type": "display_data"
    }
   ],
   "source": [
    "sns.catplot(x=[\"0\",\"1\"], y = \"read_an_answer_sum\",data=df4 ,kind=\"bar\")\n"
   ]
  },
  {
   "cell_type": "markdown",
   "id": "60981c0c",
   "metadata": {},
   "source": [
    "### There is almost 4 times bigger chance to read an answer if the user is converted."
   ]
  },
  {
   "cell_type": "code",
   "execution_count": 202,
   "id": "310c6c64",
   "metadata": {},
   "outputs": [
    {
     "data": {
      "text/plain": [
       "<seaborn.axisgrid.FacetGrid at 0x1fee031bfa0>"
      ]
     },
     "execution_count": 202,
     "metadata": {},
     "output_type": "execute_result"
    },
    {
     "data": {
      "image/png": "[encoded data removed]",
      "text/plain": [
       "<Figure size 720x720 with 1 Axes>"
      ]
     },
     "metadata": {
      "needs_background": "light"
     },
     "output_type": "display_data"
    }
   ],
   "source": [
    "sns.catplot(ax = ax, x=\"user_converted_to_trial\", y = \"read_an_answer_sum\",data=df3 ,kind=\"box\",  height=10, aspect=1)"
   ]
  }
 ],
 "metadata": {
  "kernelspec": {
   "display_name": "Python 3 (ipykernel)",
   "language": "python",
   "name": "python3"
  },
  "language_info": {
   "codemirror_mode": {
    "name": "ipython",
    "version": 3
   },
   "file_extension": ".py",
   "mimetype": "text/x-python",
   "name": "python",
   "nbconvert_exporter": "python",
   "pygments_lexer": "ipython3",
   "version": "3.9.12"
  }
 },
 "nbformat": 4,
 "nbformat_minor": 5
}
