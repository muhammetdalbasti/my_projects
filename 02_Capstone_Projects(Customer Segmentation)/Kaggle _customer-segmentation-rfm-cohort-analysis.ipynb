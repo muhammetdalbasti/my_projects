{
 "cells": [
  {
   "cell_type": "markdown",
   "metadata": {
    "_cell_guid": "b1076dfc-b9ad-4769-8c92-a6c4dae69d19",
    "_uuid": "8f2839f25d086af736a60e9eeb907d3b93b6e0e5"
   },
   "source": [
    "Kernel features :\n",
    "\n",
    "- [Data Wrangling / Data Preparation](#data-wrangling)\n",
    "- [RFM Segmentation](#rfm-segmentation)\n",
    "- [Cohort Analysis](#cohort-analysis)\n",
    "\n",
    "&nbsp;"
   ]
  },
  {
   "cell_type": "code",
   "execution_count": null,
   "metadata": {
    "_cell_guid": "79c7e3d0-c299-4dcb-8224-4455121ee9b0",
    "_uuid": "d629ff2d2480ee46fbb7e2d37f6b5fab8052498a"
   },
   "outputs": [],
   "source": [
    "import pandas as pd\n",
    "import numpy as np\n",
    "import matplotlib.pyplot as plt\n",
    "import seaborn as sns "
   ]
  },
  {
   "cell_type": "code",
   "execution_count": null,
   "metadata": {
    "_uuid": "a7e69fe1df6cb74e7fd416de9999ab25505a15f3"
   },
   "outputs": [],
   "source": [
    "df = pd.read_csv('../input/data.csv', encoding = \"ISO-8859-1\")"
   ]
  },
  {
   "cell_type": "code",
   "execution_count": null,
   "metadata": {
    "_uuid": "875725ef9031c3238ef98593560c372dbaa1da43"
   },
   "outputs": [],
   "source": [
    "df.head(10)"
   ]
  },
  {
   "cell_type": "markdown",
   "metadata": {
    "_uuid": "831bcc0746392ea1e318065c4f32ce5a336b15a6"
   },
   "source": [
    "<a name=\"data-wrangling\"></a>"
   ]
  },
  {
   "cell_type": "markdown",
   "metadata": {
    "_uuid": "de5a16a88291515513a56ee2f38e9044e72911c7"
   },
   "source": [
    "## Data Wrangling"
   ]
  },
  {
   "cell_type": "code",
   "execution_count": null,
   "metadata": {
    "_uuid": "dab88eb54f75f49ecab39359c38c3665dbef8134"
   },
   "outputs": [],
   "source": [
    "df['InvoiceDate'] = pd.to_datetime(df['InvoiceDate']) #ubah format InvoiceDate menjadi datetime"
   ]
  },
  {
   "cell_type": "code",
   "execution_count": null,
   "metadata": {
    "_uuid": "536f3e75492b7036eeaf5bf2854a6725bd3c8079"
   },
   "outputs": [],
   "source": [
    "print(\"Informasi dari dataset :\")\n",
    "print(\"Jumlah Row \\t\\t:\", df.shape[0]) #check jumlah total rows pada data\n",
    "print(\"Jumlah Column \\t\\t:\", df.shape[1]) #check jumlah total coloumns pada data\n",
    "print(\"Date range from \\t:\", df.InvoiceDate.min(), \" to \", df.InvoiceDate.max()) #check range waktu pada data\n",
    "print(\"#Jumlah Transaksi \\t:\", df.InvoiceNo.nunique()) #check jumlah transaksi\n",
    "print(\"#Unique Customer \\t:\", df.CustomerID.nunique()) #check jumlah unique customer\n",
    "print(\"Range Quantity \\t\\t:\", df.Quantity.min(), \" to \", df.Quantity.max()) #check range Quantity pada data\n",
    "print(\"Range UnitPrice \\t:\", df.UnitPrice.min(), \" to \", df.UnitPrice.max()) #check range UnitPrice pada data"
   ]
  },
  {
   "cell_type": "code",
   "execution_count": null,
   "metadata": {
    "_uuid": "ae14c6c374a60b878d66a5a428a10c8c16db706b"
   },
   "outputs": [],
   "source": [
    "print(df.isnull().sum().sort_values(ascending=False))"
   ]
  },
  {
   "cell_type": "markdown",
   "metadata": {
    "_uuid": "14de38b982798fee689981366fed2e285fbbdbb7"
   },
   "source": [
    "- Some data has a Negative Quantity and UnitPrice\n",
    "- Some data has CustomerID and Description null / blank\n",
    "\n",
    "we will drop those data"
   ]
  },
  {
   "cell_type": "code",
   "execution_count": null,
   "metadata": {
    "_uuid": "c3b328c999271f208ee1b5153d793b10fee7a371"
   },
   "outputs": [],
   "source": [
    "df_new = df.dropna() ## remove null\n",
    "df_new = df_new[df_new.Quantity > 0] ## remove negative value in Quantity column\n",
    "df_new = df_new[df_new.UnitPrice > 0] ## remove negative value in UnitPrice column"
   ]
  },
  {
   "cell_type": "code",
   "execution_count": null,
   "metadata": {
    "_uuid": "0005b8eaa442233455d65df1691f62087ca7619e"
   },
   "outputs": [],
   "source": [
    "print(df_new.isnull().sum().sort_values(ascending=False))"
   ]
  },
  {
   "cell_type": "code",
   "execution_count": null,
   "metadata": {
    "_uuid": "8af5f1f046a4f3c7b58d0332615a0b120bbc3b8e"
   },
   "outputs": [],
   "source": [
    "df_new['Revenue'] = df_new['Quantity'] * df_new['UnitPrice'] ## add Revenue (Qty * UnitPrice) column\n",
    "df_new['CustomerID'] = df_new['CustomerID'].astype('int64') #change format CustomerID"
   ]
  },
  {
   "cell_type": "markdown",
   "metadata": {
    "_uuid": "116b823539baf7d9e49b1108c6fe614607ce40ce"
   },
   "source": [
    "<a name=\"rfm-segmentation\"></a>"
   ]
  },
  {
   "cell_type": "markdown",
   "metadata": {
    "_uuid": "d9f9c9e7a3c9c8149ef47565aaf73cd114901209"
   },
   "source": [
    "## RFM Segmentation"
   ]
  },
  {
   "cell_type": "markdown",
   "metadata": {
    "_uuid": "5530e6a14b9293a88fef67bd4ff0eadca0018247"
   },
   "source": [
    "RFM Segmentation is customer segmentation based on scoring R, F, and M (Recency: Length of day since the last transaction, Frequency: Number of transactions, Monetary: Total Revenue).\n",
    "\n",
    "Because the last transaction on the data was December 9, 2011, we will use December 10, 2011 to calculate the recency"
   ]
  },
  {
   "cell_type": "code",
   "execution_count": null,
   "metadata": {
    "_uuid": "734d8189fad41641239056d5eba699ed517a1d41"
   },
   "outputs": [],
   "source": [
    "import datetime as dt\n",
    "NOW = dt.datetime(2011,12,10)"
   ]
  },
  {
   "cell_type": "code",
   "execution_count": null,
   "metadata": {
    "_uuid": "efd91b2d0428ab25b088f58e12d1b635b9b9dc12"
   },
   "outputs": [],
   "source": [
    "rfmTable = df_new.groupby('CustomerID').agg({'InvoiceDate': lambda x: (NOW - x.max()).days, 'InvoiceNo': lambda x: len(x), 'Revenue': lambda x: x.sum()})\n",
    "rfmTable['InvoiceDate'] = rfmTable['InvoiceDate'].astype(int)\n",
    "rfmTable.rename(columns={'InvoiceDate': 'recency', \n",
    "                         'InvoiceNo': 'frequency', \n",
    "                         'Revenue': 'monetary'}, inplace=True)"
   ]
  },
  {
   "cell_type": "code",
   "execution_count": null,
   "metadata": {
    "_uuid": "df47d934ab4fa9b7dc16f8e5987a8743d4a8401d"
   },
   "outputs": [],
   "source": [
    "rfmTable.head()"
   ]
  },
  {
   "cell_type": "markdown",
   "metadata": {
    "_uuid": "1612193a819b02c0ec7dff15f18ecf85118f62bc"
   },
   "source": [
    "### Interpretation :"
   ]
  },
  {
   "cell_type": "markdown",
   "metadata": {
    "_uuid": "0290d8c5258f28fd478e418b3cfe8ee805f314e0"
   },
   "source": [
    "Customers with ID 12346 have ** frequency **: 1 (1 time transaction), ** recency **: 325 (325 days of the last transaction), and ** monetary ** 77183.60 (Grand total transactions)\n",
    " \n",
    "\n",
    "Customer with email 12347 has ** frequency **: 182 (182 complete transaction times), ** recency **: 2 (2 days from the last transaction), and ** monetary ** 4310.00 (Grand total transactions)"
   ]
  },
  {
   "cell_type": "markdown",
   "metadata": {
    "_uuid": "9a7e3f664cfdaffe4990520dd4d4505437e823c1"
   },
   "source": [
    "The easiest way to create a segment is the quartile method. With this method there will be 4 segments that are easy to understand"
   ]
  },
  {
   "cell_type": "markdown",
   "metadata": {
    "_uuid": "7f06b79fb98d49ca6affa85abba2bf406bd777cc"
   },
   "source": [
    "<img src=\"https://www.mathsisfun.com/data/images/quartiles-c.gif\" />"
   ]
  },
  {
   "cell_type": "code",
   "execution_count": null,
   "metadata": {
    "_uuid": "fc50acbd2203bd753fb3c51097cd1d088a3007b3"
   },
   "outputs": [],
   "source": [
    "quantiles = rfmTable.quantile(q=[0.25,0.5,0.75])\n",
    "quantiles = quantiles.to_dict()\n",
    "segmented_rfm = rfmTable"
   ]
  },
  {
   "cell_type": "code",
   "execution_count": null,
   "metadata": {
    "_uuid": "df1fcb48a62fe4b4e90877a014bebe7655624321"
   },
   "outputs": [],
   "source": [
    "def RScore(x,p,d):\n",
    "    if x <= d[p][0.25]:\n",
    "        return 4\n",
    "    elif x <= d[p][0.50]:\n",
    "        return 3\n",
    "    elif x <= d[p][0.75]: \n",
    "        return 2\n",
    "    else:\n",
    "        return 1\n",
    "    \n",
    "def FMScore(x,p,d):\n",
    "    if x <= d[p][0.25]:\n",
    "        return 1\n",
    "    elif x <= d[p][0.50]:\n",
    "        return 2\n",
    "    elif x <= d[p][0.75]: \n",
    "        return 3\n",
    "    else:\n",
    "        return 4"
   ]
  },
  {
   "cell_type": "code",
   "execution_count": null,
   "metadata": {
    "_uuid": "a0d5322e1c817bccd70eb338d4c0b753212fee6b"
   },
   "outputs": [],
   "source": [
    "segmented_rfm['r_quartile'] = segmented_rfm['recency'].apply(RScore, args=('recency',quantiles,))\n",
    "segmented_rfm['f_quartile'] = segmented_rfm['frequency'].apply(FMScore, args=('frequency',quantiles,))\n",
    "segmented_rfm['m_quartile'] = segmented_rfm['monetary'].apply(FMScore, args=('monetary',quantiles,))\n",
    "segmented_rfm.head()"
   ]
  },
  {
   "cell_type": "code",
   "execution_count": null,
   "metadata": {
    "_uuid": "99f8b74cf60a44df2f0b767ee4d85707906481cd"
   },
   "outputs": [],
   "source": [
    "segmented_rfm['RFMScore'] = segmented_rfm.r_quartile.map(str)+segmented_rfm.f_quartile.map(str)+segmented_rfm.m_quartile.map(str)\n",
    "segmented_rfm.head()"
   ]
  },
  {
   "cell_type": "markdown",
   "metadata": {
    "_uuid": "3867831dfd87ee2218b4499e3670adf8fb5577d5"
   },
   "source": [
    "RFM score: 444 is the best score because it has a low ** recency ** (still active), ** frequency ** high (often making transactions) and ** monetary ** high\n",
    "\n",
    "&nbsp;"
   ]
  },
  {
   "cell_type": "markdown",
   "metadata": {
    "_uuid": "6a77f38a7593e17781cb5caa8c969db12f7d5e73"
   },
   "source": [
    "### Top 5 Customer based on RFMScore"
   ]
  },
  {
   "cell_type": "code",
   "execution_count": null,
   "metadata": {
    "_uuid": "4aaea1a6f7c53fcbb986b8ed9dcee1b1ba8ab6e2"
   },
   "outputs": [],
   "source": [
    "segmented_rfm[segmented_rfm['RFMScore']=='444'].sort_values('monetary', ascending=False).head()\n"
   ]
  },
  {
   "cell_type": "markdown",
   "metadata": {
    "_uuid": "257147d40c2b341aeebb32f3beca000e909c6334"
   },
   "source": [
    "Let's look at more detailed CustomerID transactions 14646"
   ]
  },
  {
   "cell_type": "code",
   "execution_count": null,
   "metadata": {
    "_uuid": "72007dab6f496a710d6abbd629d6835bd0da8ad7"
   },
   "outputs": [],
   "source": [
    "top_customer = df_new[df_new['CustomerID'] == 14646]\n",
    "top_customer.head(20)"
   ]
  },
  {
   "cell_type": "markdown",
   "metadata": {
    "_uuid": "eaba058311c02981777a0304c1fb852f05e3d918"
   },
   "source": []
  },
  {
   "cell_type": "markdown",
   "metadata": {
    "_uuid": "e9ac647980e80f1313bc93c0243fa3e4ac18ce3e"
   },
   "source": [
    "<a name=\"cohort-analysis\"></a>"
   ]
  },
  {
   "cell_type": "markdown",
   "metadata": {
    "_uuid": "48bcf9ee68eb82d3f180d7b69a329995684ecc48"
   },
   "source": [
    "## Cohort Analysis"
   ]
  },
  {
   "cell_type": "markdown",
   "metadata": {},
   "source": [
    "Chohort Analysis original source from Datacamp https://campus.datacamp.com/courses/customer-segmentation-in-python/cohort-analysis?ex=3"
   ]
  },
  {
   "cell_type": "code",
   "execution_count": null,
   "metadata": {
    "_uuid": "62b817c3381d0854729678cb169df662de73e867"
   },
   "outputs": [],
   "source": [
    "df_new.head()"
   ]
  },
  {
   "cell_type": "code",
   "execution_count": null,
   "metadata": {
    "_uuid": "b541e234c71a5f0343a6ebcf68872dcebbe8a4c4"
   },
   "outputs": [],
   "source": [
    "def get_month(x): return dt.datetime(x.year, x.month, 1)\n",
    "df_new['InvoiceMonth'] = df_new['InvoiceDate'].apply(get_month)\n",
    "grouping = df_new.groupby('CustomerID')['InvoiceMonth']\n",
    "df_new['CohortMonth'] = grouping.transform('min')"
   ]
  },
  {
   "cell_type": "code",
   "execution_count": null,
   "metadata": {
    "_uuid": "3aaaa8593bc6e7f24f6386cce0b8a27b74e2be2e"
   },
   "outputs": [],
   "source": [
    "df_new.head()"
   ]
  },
  {
   "cell_type": "code",
   "execution_count": null,
   "metadata": {
    "_uuid": "38c7b67ec4c649b1a4f8188786561aa2d08c3444"
   },
   "outputs": [],
   "source": [
    "## function untuk extract integer value dari data\n",
    "def get_date_int(df, column):\n",
    "    year = df[column].dt.year\n",
    "    month = df[column].dt.month\n",
    "    day = df[column].dt.day\n",
    "    return year, month, day"
   ]
  },
  {
   "cell_type": "code",
   "execution_count": null,
   "metadata": {
    "_uuid": "8d1c6747318c69b7ce69f2c755b261b049d89467"
   },
   "outputs": [],
   "source": [
    "invoice_year, invoice_month, _ = get_date_int(df_new, 'InvoiceMonth')\n",
    "cohort_year, cohort_month, _ = get_date_int(df_new, 'CohortMonth')"
   ]
  },
  {
   "cell_type": "code",
   "execution_count": null,
   "metadata": {
    "_uuid": "fdd76bb6b0ac4b9acae599d52eb05c8f02909b0b"
   },
   "outputs": [],
   "source": [
    "years_diff = invoice_year - cohort_year\n",
    "months_diff = invoice_month - cohort_month"
   ]
  },
  {
   "cell_type": "code",
   "execution_count": null,
   "metadata": {
    "_uuid": "e20efdc707566c331b3d5f64779ec629d0c31ee0"
   },
   "outputs": [],
   "source": [
    "df_new['CohortIndex'] = years_diff * 12 + months_diff + 1"
   ]
  },
  {
   "cell_type": "code",
   "execution_count": null,
   "metadata": {
    "_uuid": "edaa2f58a88400b7dee839d8a84e0c13e603b647"
   },
   "outputs": [],
   "source": [
    "df_new.head()"
   ]
  },
  {
   "cell_type": "code",
   "execution_count": null,
   "metadata": {
    "_uuid": "70aa5df5f3db4d8de99aca664c4003357ef04f2c"
   },
   "outputs": [],
   "source": [
    "## grouping customer berdasarkan masing masing cohort\n",
    "grouping = df_new.groupby(['CohortMonth', 'CohortIndex'])\n",
    "cohort_data = grouping['CustomerID'].apply(pd.Series.nunique)\n",
    "cohort_data = cohort_data.reset_index()\n",
    "cohort_counts = cohort_data.pivot(index='CohortMonth', columns='CohortIndex', values='CustomerID')"
   ]
  },
  {
   "cell_type": "code",
   "execution_count": null,
   "metadata": {
    "_uuid": "00138ee5aaca5db3931f00c6a420635be26fee19"
   },
   "outputs": [],
   "source": [
    "cohort_counts"
   ]
  },
  {
   "cell_type": "markdown",
   "metadata": {
    "_uuid": "ffe2096bc615585b5e8b731948a8cccc0c6cccb8"
   },
   "source": [
    "### Intepretation :"
   ]
  },
  {
   "cell_type": "markdown",
   "metadata": {
    "_uuid": "e4877c7504c21bdcad0234b95f004c01db904b72"
   },
   "source": [
    "<img src=\"https://i.imgur.com/FQn5sDf.png\" />"
   ]
  },
  {
   "cell_type": "markdown",
   "metadata": {
    "_uuid": "367499a6305b44871b4e06c8ad01e53cd84347e8"
   },
   "source": [
    "CohortMonth 2010-12 (Cohort December 2010) has 885 Unique customers who made transactions that month (CohortIndex 1), <br>\n",
    "324 customers returned to the transaction the following month (CohortIndex 2), <br>\n",
    "286 customers returned again the following month (CohortIndex 3), and so on."
   ]
  },
  {
   "cell_type": "markdown",
   "metadata": {
    "_uuid": "aee40fa9eb31ee1c426ede923d1901fc67a08ee6"
   },
   "source": [
    "### Retention Rate"
   ]
  },
  {
   "cell_type": "code",
   "execution_count": null,
   "metadata": {
    "_uuid": "8fee951c63da7e9b8dd66164c3d7933296883ecb"
   },
   "outputs": [],
   "source": [
    "cohort_sizes = cohort_counts.iloc[:,0]\n",
    "retention = cohort_counts.divide(cohort_sizes, axis=0)\n",
    "retention.round(2) * 100"
   ]
  },
  {
   "cell_type": "markdown",
   "metadata": {
    "_uuid": "028b24592f2e35e3f35c000490af052fd834c753"
   },
   "source": [
    "### Heatmap"
   ]
  },
  {
   "cell_type": "code",
   "execution_count": null,
   "metadata": {
    "_uuid": "64a61be3473d255ee026d4ae22eb6d8b80ad8b1e"
   },
   "outputs": [],
   "source": [
    "plt.figure(figsize=(15, 8))\n",
    "plt.title('Retention rates')\n",
    "sns.heatmap(data = retention,\n",
    "annot = True,\n",
    "fmt = '.0%',\n",
    "vmin = 0.0,\n",
    "vmax = 0.5,\n",
    "cmap = 'BuGn')\n",
    "plt.show()"
   ]
  },
  {
   "cell_type": "markdown",
   "metadata": {
    "_uuid": "e24565b3f3a8971bcb2d1ed89ebfffd2896789a5"
   },
   "source": [
    "Retention rates are often ignored, but they are actually very important. Because the cost of customer acquisition is very expensive we need to do everything to convince the client to return after their first purchase. <p>\n",
    "\n",
    "If your retention rate is low you will spend a budget for the acquisition channel so that more customers will arrive. <p>\n",
    "\n",
    "From Cohort Analysis we can see the retention rate or what percentage of customers return in the following months after the first purchase"
   ]
  },
  {
   "cell_type": "code",
   "execution_count": null,
   "metadata": {
    "_uuid": "3a27d5045157e7ce0fb66976c7c25dfdb7b938bb"
   },
   "outputs": [],
   "source": []
  }
 ],
 "metadata": {
  "kernelspec": {
   "display_name": "Python 3 (ipykernel)",
   "language": "python",
   "name": "python3"
  },
  "language_info": {
   "codemirror_mode": {
    "name": "ipython",
    "version": 3
   },
   "file_extension": ".py",
   "mimetype": "text/x-python",
   "name": "python",
   "nbconvert_exporter": "python",
   "pygments_lexer": "ipython3",
   "version": "3.9.7"
  }
 },
 "nbformat": 4,
 "nbformat_minor": 4
}
